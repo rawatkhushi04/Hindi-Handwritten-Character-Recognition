{
  "cells": [
    {
      "cell_type": "code",
      "execution_count": null,
      "metadata": {
        "id": "Gf9sHvOoq-ub"
      },
      "outputs": [],
      "source": [
        "from zipfile import ZipFile\n",
        "# Path of ZIP file\n",
        "f = \"/content/drive/MyDrive/Khushi Rawat/Hindi character dtaset.zip\"\n",
        "# Use ZipFile to open and extract the contents of the ZIP file\n",
        "with ZipFile(f,'r') as zip:\n",
        "  zip.extractall()"
      ]
    },
    {
      "cell_type": "code",
      "execution_count": null,
      "metadata": {
        "colab": {
          "base_uri": "https://localhost:8080/"
        },
        "id": "_O-iEA8CS28R",
        "outputId": "e02b8b1c-28f3-4701-cf0b-30f328d85d90"
      },
      "outputs": [
        {
          "name": "stdout",
          "output_type": "stream",
          "text": [
            "Drive already mounted at /content/drive; to attempt to forcibly remount, call drive.mount(\"/content/drive\", force_remount=True).\n"
          ]
        }
      ],
      "source": [
        "from google.colab import drive\n",
        "drive.mount('/content/drive')"
      ]
    },
    {
      "cell_type": "code",
      "execution_count": null,
      "metadata": {
        "id": "I7xpXYQqrCoF"
      },
      "outputs": [],
      "source": [
        "import os\n",
        "import pandas as pd\n",
        "import matplotlib.pyplot as plt\n",
        "import numpy as np\n",
        "\n",
        "import tensorflow as tf\n",
        "from tensorflow.keras import layers\n",
        "from tensorflow.keras.preprocessing import image_dataset_from_directory\n",
        "from sklearn.metrics import accuracy_score,classification_report\n",
        "from keras import optimizers\n",
        "from tensorflow.keras.models import Sequential\n",
        "from tensorflow.keras.layers import Convolution2D,MaxPooling2D,Activation, Dropout, Flatten, Dense, BatchNormalization\n",
        "\n",
        "import numpy as np\n",
        "import pandas as pd\n",
        "import matplotlib.pyplot as plt\n",
        "import os\n",
        "from tqdm.notebook import tqdm"
      ]
    },
    {
      "cell_type": "code",
      "execution_count": null,
      "metadata": {
        "id": "r2p0Stz1QGRR"
      },
      "outputs": [],
      "source": []
    },
    {
      "cell_type": "code",
      "execution_count": null,
      "metadata": {
        "id": "-onEPu8srCrT"
      },
      "outputs": [],
      "source": [
        "# Train and Test Directory\n",
        "train_dir = '/content/DevanagariHandwrittenCharacterDataset/Train'\n",
        "test_dir = '/content/DevanagariHandwrittenCharacterDataset/Test'"
      ]
    },
    {
      "cell_type": "code",
      "execution_count": null,
      "metadata": {
        "colab": {
          "base_uri": "https://localhost:8080/"
        },
        "id": "CwA-Ms8GrCvt",
        "outputId": "6bf9f4bb-6fa1-4f31-dcab-a6cd920701ac"
      },
      "outputs": [
        {
          "name": "stdout",
          "output_type": "stream",
          "text": [
            "Length of the list :  46\n"
          ]
        },
        {
          "data": {
            "text/plain": [
              "['character_22_pha',\n",
              " 'character_10_yna',\n",
              " 'digit_1',\n",
              " 'character_29_waw',\n",
              " 'character_17_tha',\n",
              " 'character_21_pa',\n",
              " 'character_9_jha',\n",
              " 'character_31_petchiryakha',\n",
              " 'character_33_ha',\n",
              " 'character_11_taamatar',\n",
              " 'digit_2',\n",
              " 'digit_7',\n",
              " 'character_15_adna',\n",
              " 'digit_5',\n",
              " 'character_34_chhya',\n",
              " 'digit_4',\n",
              " 'character_1_ka',\n",
              " 'character_19_dha',\n",
              " 'character_16_tabala',\n",
              " 'character_36_gya',\n",
              " 'character_35_tra',\n",
              " 'character_23_ba',\n",
              " 'digit_9',\n",
              " 'digit_3',\n",
              " 'character_24_bha',\n",
              " 'character_12_thaa',\n",
              " 'character_25_ma',\n",
              " 'character_20_na',\n",
              " 'character_4_gha',\n",
              " 'character_18_da',\n",
              " 'character_2_kha',\n",
              " 'character_7_chha',\n",
              " 'digit_0',\n",
              " 'character_5_kna',\n",
              " 'character_14_dhaa',\n",
              " 'digit_6',\n",
              " 'character_26_yaw',\n",
              " 'character_6_cha',\n",
              " 'character_27_ra',\n",
              " 'character_32_patalosaw',\n",
              " 'character_3_ga',\n",
              " 'character_13_daa',\n",
              " 'character_8_ja',\n",
              " 'character_30_motosaw',\n",
              " 'character_28_la',\n",
              " 'digit_8']"
            ]
          },
          "execution_count": 19,
          "metadata": {},
          "output_type": "execute_result"
        }
      ],
      "source": [
        "# Total number of classes in the dataset\n",
        "classes = os.listdir(train_dir)\n",
        "print(\"Length of the list : \",len(classes))\n",
        "classes"
      ]
    },
    {
      "cell_type": "code",
      "execution_count": null,
      "metadata": {
        "colab": {
          "base_uri": "https://localhost:8080/",
          "height": 430
        },
        "id": "vvb-6jROrCyz",
        "outputId": "556cd347-07f1-41ff-c223-790b29139906"
      },
      "outputs": [
        {
          "data": {
            "image/png": "[encoded data removed]",
            "text/plain": [
              "<Figure size 640x480 with 1 Axes>"
            ]
          },
          "metadata": {},
          "output_type": "display_data"
        }
      ],
      "source": [
        "import matplotlib.pyplot as plt\n",
        "import matplotlib.image as mpimg\n",
        "\n",
        "# Load image\n",
        "img = mpimg.imread('/content/DevanagariHandwrittenCharacterDataset/Train/character_10_yna/10542.png')\n",
        "\n",
        "# Display image\n",
        "plt.imshow(img)\n",
        "plt.show()"
      ]
    },
    {
      "cell_type": "code",
      "execution_count": null,
      "metadata": {
        "colab": {
          "base_uri": "https://localhost:8080/",
          "height": 430
        },
        "id": "7glVQaVSrC18",
        "outputId": "9987d7b7-5ab7-48a7-8d05-75b794780673"
      },
      "outputs": [
        {
          "data": {
            "image/png": "[encoded data removed]",
            "text/plain": [
              "<Figure size 640x480 with 1 Axes>"
            ]
          },
          "metadata": {},
          "output_type": "display_data"
        }
      ],
      "source": [
        "# Load image\n",
        "img = mpimg.imread('/content/DevanagariHandwrittenCharacterDataset/Train/character_10_yna/10576.png')\n",
        "\n",
        "# Display image\n",
        "plt.imshow(img)\n",
        "plt.show()"
      ]
    },
    {
      "cell_type": "code",
      "execution_count": null,
      "metadata": {
        "colab": {
          "base_uri": "https://localhost:8080/",
          "height": 430
        },
        "id": "mALZxhf7rC5u",
        "outputId": "c63c7678-ec6c-4902-8554-121b1f3bce07"
      },
      "outputs": [
        {
          "data": {
            "image/png": "[encoded data removed]",
            "text/plain": [
              "<Figure size 640x480 with 1 Axes>"
            ]
          },
          "metadata": {},
          "output_type": "display_data"
        }
      ],
      "source": [
        "# Load image\n",
        "img = mpimg.imread('/content/DevanagariHandwrittenCharacterDataset/Train/character_20_na/11061.png')\n",
        "\n",
        "# Display image\n",
        "plt.imshow(img)\n",
        "plt.show()"
      ]
    },
    {
      "cell_type": "code",
      "execution_count": null,
      "metadata": {
        "colab": {
          "base_uri": "https://localhost:8080/",
          "height": 430
        },
        "id": "HUjFywhKrC9d",
        "outputId": "4b3e4133-90e0-44f5-fa73-bf1390a826cd"
      },
      "outputs": [
        {
          "data": {
            "image/png": "[encoded data removed]",
            "text/plain": [
              "<Figure size 640x480 with 1 Axes>"
            ]
          },
          "metadata": {},
          "output_type": "display_data"
        }
      ],
      "source": [
        "# Load image\n",
        "img = mpimg.imread('/content/DevanagariHandwrittenCharacterDataset/Train/character_35_tra/102522.png')\n",
        "\n",
        "# Display image\n",
        "plt.imshow(img)\n",
        "plt.show()"
      ]
    },
    {
      "cell_type": "code",
      "execution_count": null,
      "metadata": {
        "id": "mZ3M5yPHrDCa"
      },
      "outputs": [],
      "source": [
        "hindi_character = 'ञ ट ठ ड ढ ण त थ द ध क न प फ ब भ म य र ल व ख श ष स ह ॠ त्र ज्ञ ग घ ङ च छ ज झ ० १ २ ३ ४ ५ ६ ७ ८ ९'.split()\n"
      ]
    },
    {
      "cell_type": "code",
      "execution_count": null,
      "metadata": {
        "id": "E-22veYArDFe"
      },
      "outputs": [],
      "source": [
        "# Generating Class label\n",
        "# The names of each character, in the correct order for the Hindi Devnagri script\n",
        "class_names='''character_1_ka character_2_kha character_3_ga charajcter_4_gha character_5_kna character_6_cha character_7_chha\n",
        "character_8_ja character_9_jha character_10_yna character_11_taamatar character_12_thaa character_13_daa character_14_dhaa\n",
        "character_15_adna character_16_tabala character_17_tha character_18_da character_19_dha character_20_na character_21_pa\n",
        "character_22_pha character_23_ba character_24_bha character_25_ma character_26_yaw character_27_ra character_28_la\n",
        "character_29_waw character_30_motosaw character_31_petchiryakha character_32_patalosaw character_33_ha character_34_chhya\n",
        "character_35_tra character_36_gya digit_0 digit_1 digit_2 digit_3 digit_4 digit_5 digit_6 digit_7 digit_8 digit_9'''.split()\n",
        "\n",
        "hindi_character = 'क ख ग घ ङ च छ ज झ ञ ट ठ ड ढ ण त थ द ध न प फ ब भ म य र ल व श ष स ह ॠ त्र ज्ञ ० १ २ ३ ४ ५ ६ ७ ८ ९'.split()\n"
      ]
    },
    {
      "cell_type": "code",
      "execution_count": null,
      "metadata": {
        "colab": {
          "base_uri": "https://localhost:8080/"
        },
        "id": "i5vrNQ3ZrDIN",
        "outputId": "59feab04-7c80-476b-aa76-bf6e5592b9b9"
      },
      "outputs": [
        {
          "name": "stdout",
          "output_type": "stream",
          "text": [
            "Found 78200 files belonging to 46 classes.\n",
            "Found 13800 files belonging to 46 classes.\n"
          ]
        }
      ],
      "source": [
        "# Creating Batches\n",
        "\n",
        "#Import the data from the directories, then transform them into batches\n",
        "training_dataset = image_dataset_from_directory(directory=train_dir,\n",
        "                                                image_size=(32,32),\n",
        "                                                batch_size=32,\n",
        "                                                label_mode='categorical')\n",
        "\n",
        "testting_dataset = image_dataset_from_directory(directory=test_dir,\n",
        "                                                image_size=(32,32),\n",
        "                                                batch_size=32,\n",
        "                                                label_mode='categorical',\n",
        "                                                shuffle=False)"
      ]
    },
    {
      "cell_type": "code",
      "execution_count": null,
      "metadata": {
        "id": "iagezJcVrdUI"
      },
      "outputs": [],
      "source": [
        "# Architechture of the CNN\n",
        "model_1 = tf.keras.Sequential([\n",
        "    tf.keras.Sequential([layers.Rescaling(1./255)]),\n",
        "\n",
        "    # Layer1\n",
        "    layers.Conv2D(filters=6, kernel_size=(5, 5), activation='relu', input_shape=(32, 32, 3)),\n",
        "    layers.BatchNormalization(),\n",
        "    layers.AveragePooling2D(),\n",
        "\n",
        "    # Layer2\n",
        "    layers.Conv2D(filters=16, kernel_size=(5, 5), activation='relu'),\n",
        "    layers.BatchNormalization(),\n",
        "    layers.AveragePooling2D(),\n",
        "\n",
        "    # Flatten the array\n",
        "    layers.Flatten(),\n",
        "\n",
        "    # Fully Connected Layer 1\n",
        "    layers.Dense(120, activation='relu'),\n",
        "    layers.BatchNormalization(),\n",
        "    layers.Dropout(0.5),  # Adjust dropout rate as needed\n",
        "\n",
        "    # Fully Connected Layer 2\n",
        "    layers.Dense(84, activation='relu'),\n",
        "    layers.BatchNormalization(),\n",
        "    layers.Dropout(0.5),\n",
        "\n",
        "    # Fully Connected Layer 3\n",
        "    layers.Dense(len(classes), activation='softmax')\n",
        "])\n"
      ]
    },
    {
      "cell_type": "code",
      "execution_count": null,
      "metadata": {
        "id": "N6KOTIYOrdW3"
      },
      "outputs": [],
      "source": [
        "# Compile Model\n",
        "model_1.compile(loss = 'categorical_crossentropy',\n",
        "                optimizer = 'adam',\n",
        "                metrics = ['accuracy'])"
      ]
    },
    {
      "cell_type": "code",
      "execution_count": null,
      "metadata": {
        "colab": {
          "background_save": true,
          "base_uri": "https://localhost:8080/"
        },
        "id": "rlukLO15rdZp",
        "outputId": "3c375cfc-3dfe-49ad-d30f-f2d7bfe82082"
      },
      "outputs": [
        {
          "name": "stdout",
          "output_type": "stream",
          "text": [
            "Epoch 1/10\n",
            "2444/2444 [==============================] - 102s 40ms/step - loss: 1.4603 - accuracy: 0.5956 - val_loss: 0.3440 - val_accuracy: 0.8993\n",
            "Epoch 2/10\n",
            "2444/2444 [==============================] - 99s 41ms/step - loss: 0.5920 - accuracy: 0.8245 - val_loss: 0.2099 - val_accuracy: 0.9346\n",
            "Epoch 3/10\n",
            "2444/2444 [==============================] - 102s 42ms/step - loss: 0.4590 - accuracy: 0.8623 - val_loss: 0.1562 - val_accuracy: 0.9522\n",
            "Epoch 4/10\n",
            "2444/2444 [==============================] - 97s 40ms/step - loss: 0.3914 - accuracy: 0.8842 - val_loss: 0.1431 - val_accuracy: 0.9564\n",
            "Epoch 5/10\n",
            "2444/2444 [==============================] - 94s 38ms/step - loss: 0.3460 - accuracy: 0.8978 - val_loss: 0.1438 - val_accuracy: 0.9549\n",
            "Epoch 6/10\n",
            "2444/2444 [==============================] - 94s 38ms/step - loss: 0.3177 - accuracy: 0.9045 - val_loss: 0.1247 - val_accuracy: 0.9627\n",
            "Epoch 7/10\n",
            "2444/2444 [==============================] - 97s 40ms/step - loss: 0.3006 - accuracy: 0.9109 - val_loss: 0.1153 - val_accuracy: 0.9671\n",
            "Epoch 8/10\n",
            "2444/2444 [==============================] - 94s 38ms/step - loss: 0.2828 - accuracy: 0.9168 - val_loss: 0.1052 - val_accuracy: 0.9688\n",
            "Epoch 9/10\n",
            "2444/2444 [==============================] - 94s 38ms/step - loss: 0.2720 - accuracy: 0.9179 - val_loss: 0.1014 - val_accuracy: 0.9683\n",
            "Epoch 10/10\n",
            "2444/2444 [==============================] - 97s 40ms/step - loss: 0.2569 - accuracy: 0.9242 - val_loss: 0.0954 - val_accuracy: 0.9717\n"
          ]
        }
      ],
      "source": [
        "# Model fitting on the loaded dataset\n",
        "model_1_history = model_1.fit(training_dataset,\n",
        "                              validation_data = testting_dataset,\n",
        "                        epochs = 10 ,)"
      ]
    },
    {
      "cell_type": "code",
      "execution_count": null,
      "metadata": {
        "colab": {
          "background_save": true
        },
        "id": "-FRZfb5JrdeX",
        "outputId": "01534ab6-520c-4c8a-fefd-845ff78c43e3"
      },
      "outputs": [
        {
          "data": {
            "image/png": "[encoded data removed]",
            "text/plain": [
              "<Figure size 1000x500 with 1 Axes>"
            ]
          },
          "metadata": {},
          "output_type": "display_data"
        }
      ],
      "source": [
        "# graph of validation loss and training data accuracy\n",
        "#x-axis represents the epochs, the y-axis represents the accuracy, and it\n",
        "# shows both the training and validation accuracy.\n",
        "\n",
        "\n",
        "import matplotlib.pyplot as plt\n",
        "\n",
        "plt.figure(1, figsize=(10, 5))\n",
        "\n",
        "# Plot the training accuracy with a red line, solid line style, and circle marker\n",
        "plt.plot(model_1_history.history['accuracy'], color='red', linestyle='-', marker='o', label='Train')\n",
        "\n",
        "# Plot the validation accuracy with a blue line, dashed line style, and square marker\n",
        "plt.plot(model_1_history.history['val_accuracy'], color='blue', linestyle='--', marker='s', label='Validation')\n",
        "\n",
        "# Set labels for x and y axis\n",
        "plt.xlabel('Epochs')\n",
        "plt.ylabel('Accuracy')\n",
        "#set the plot title\n",
        "plt.title('Training and Validation Accuracy Over Epochs')\n",
        "\n",
        "# Add grid lines\n",
        "plt.grid(True)\n",
        "\n",
        "# Limit y-axis range\n",
        "plt.ylim(0, 1)\n",
        "\n",
        "# Add a legend\n",
        "plt.legend(['Training', 'Validation'])\n",
        "\n",
        "# Show the plot\n",
        "plt.show()\n"
      ]
    },
    {
      "cell_type": "code",
      "execution_count": null,
      "metadata": {
        "colab": {
          "background_save": true
        },
        "id": "hgnd428Yrmxg"
      },
      "outputs": [],
      "source": [
        "#image classification\n",
        "\n",
        "model = Sequential([layers.Rescaling(1./255),])\n",
        "\n",
        "#Layer1\n",
        "model.add(Convolution2D(filters = 32,\n",
        "\t\t\tkernel_size = (3,3),\n",
        "\t\t\tstrides = 1,\n",
        "\t\t\tactivation = \"relu\",\n",
        "\t\t\tinput_shape = (32,32,1)))\n",
        "\n",
        "model.add(BatchNormalization())\n",
        "model.add(MaxPooling2D(pool_size=(2, 2),\n",
        "\t\t\tstrides=(2, 2),\n",
        "\t\t\tpadding=\"same\"))\n",
        "\n",
        "#Layer2\n",
        "model.add(Convolution2D(filters = 32,\n",
        "\t\t\tkernel_size = (3,3),\n",
        "\t\t\tstrides = 1,\n",
        "\t\t\tactivation = \"relu\",\n",
        "\t\t\tinput_shape = (32,32,1)))\n",
        "model.add(BatchNormalization())\n",
        "model.add(MaxPooling2D(pool_size=(2, 2),\n",
        "\t\t\tstrides=(2, 2),\n",
        "\t\t\tpadding=\"same\"))\n",
        "\n",
        "\n",
        "#Layers 3\n",
        "model.add(Convolution2D(filters = 64,\n",
        "\t\t\tkernel_size = (3,3),\n",
        "\t\t\tstrides = 1,\n",
        "\t\t\tactivation = \"relu\"))\n",
        "model.add(BatchNormalization())\n",
        "model.add(MaxPooling2D(pool_size=(2, 2),\n",
        "\t\t\tstrides=(2, 2),\n",
        "\t\t\tpadding=\"same\"))\n",
        "\n",
        "\n",
        "#Layer 4\n",
        "model.add(Convolution2D(filters = 64,\n",
        "\t\t\tkernel_size = (3,3),\n",
        "\t\t\tstrides= 1,\n",
        "\t\t\tactivation = \"relu\"))\n",
        "model.add(BatchNormalization())\n",
        "model.add(MaxPooling2D(pool_size=(2, 2),\n",
        "\t\t\tstrides=(2, 2),\n",
        "\t\t\tpadding=\"same\"))\n",
        "model.add(Flatten())\n",
        "\n",
        "#Fully Connected Layer 1\n",
        "model.add(Dense(128,\n",
        "\t\tactivation = \"relu\",\n",
        "\t\tkernel_initializer = \"uniform\"))\n",
        "model.add(BatchNormalization())\n",
        "\n",
        "#Fully Connected Layer 2\n",
        "model.add(Dense(64,\n",
        "\t\tactivation = \"relu\",\n",
        "\t\tkernel_initializer = \"uniform\"))\n",
        "model.add(BatchNormalization())\n",
        "\n",
        "#Fully Connected Layer 3\n",
        "model.add(Dense(46,\n",
        "\t\tactivation = \"softmax\",\n",
        "\t\tkernel_initializer = \"uniform\"))"
      ]
    },
    {
      "cell_type": "code",
      "execution_count": null,
      "metadata": {
        "colab": {
          "background_save": true
        },
        "id": "N66x-c-Brm0b"
      },
      "outputs": [],
      "source": [
        "\n",
        "# Compile Model\n",
        "model.compile(loss = 'categorical_crossentropy',\n",
        "                optimizer = 'adam',\n",
        "                metrics = ['accuracy'])"
      ]
    },
    {
      "cell_type": "code",
      "execution_count": null,
      "metadata": {
        "id": "eL-TnW9grm2v"
      },
      "outputs": [],
      "source": [
        "# Model fitting on the loaded dataset\n",
        "# During each epoch, the model learns from the training dataset and evaluates\n",
        "#its performance on the validation data.\n",
        "model_history = model.fit(training_dataset,\n",
        "                              validation_data = testting_dataset,\n",
        "                        epochs = 10,)"
      ]
    },
    {
      "cell_type": "code",
      "execution_count": null,
      "metadata": {
        "id": "z0XDVsz0rm5D"
      },
      "outputs": [],
      "source": [
        "\n",
        "import cv2\n",
        "import matplotlib.pyplot as plt\n",
        "test_img = cv2.imread(\"/content/DevanagariHandwrittenCharacterDataset/Test/character_10_yna/10544.png\")\n",
        "plt.imshow(test_img)\n",
        "test_img = cv2.resize(test_img,(32,32))\n",
        "test_input = test_img.reshape((1,32,32,3))\n",
        "model.predict(test_input)\n",
        "predicted_probability = model.predict(test_input , verbose=1)\n",
        "predicted_class = predicted_probability.argmax(axis=1)\n",
        "class_number = predicted_class[0]\n",
        "print(\"Actual_class : छ\")\n",
        "print(\"Predicted Class : \" ,hindi_character[class_number])"
      ]
    },
    {
      "cell_type": "code",
      "execution_count": null,
      "metadata": {
        "id": "w8yQHrVGrxz3"
      },
      "outputs": [],
      "source": [
        "test_img_2 = test_img = cv2.imread(\"/content/DevanagariHandwrittenCharacterDataset/Test/character_10_yna/10544.png\")\n",
        "plt.imshow(test_img_2)\n",
        "test_img_2 = cv2.resize(test_img_2,(32,32))\n",
        "test_input = test_img_2.reshape((1,32,32,3))\n",
        "model.predict(test_input)\n",
        "predicted_probability = model.predict(test_input , verbose=1)\n",
        "predicted_class = predicted_probability.argmax(axis=1)\n",
        "class_number = predicted_class[0]\n",
        "print(\"Actual_class : 1\")\n",
        "print(\"Predicted Class : \" ,hindi_character[class_number])"
      ]
    }
  ],
  "metadata": {
    "colab": {
      "provenance": []
    },
    "kernelspec": {
      "display_name": "Python 3",
      "name": "python3"
    },
    "language_info": {
      "name": "python"
    }
  },
  "nbformat": 4,
  "nbformat_minor": 0
}