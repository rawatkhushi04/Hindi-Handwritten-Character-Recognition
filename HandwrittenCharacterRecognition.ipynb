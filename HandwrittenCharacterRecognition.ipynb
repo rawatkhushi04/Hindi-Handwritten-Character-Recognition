{
  "cells": [
    {
      "cell_type": "code",
      "execution_count": 1,
      "metadata": {
        "id": "6InCFd7J_FYx"
      },
      "outputs": [],
      "source": [
        "from zipfile import ZipFile\n",
        "# Path of ZIP file\n",
        "f = \"/content/drive/MyDrive/Khushi Rawat/Hindi character dtaset.zip\"\n",
        "# Use ZipFile to open and extract the contents of the ZIP file\n",
        "with ZipFile(f,'r') as zip:\n",
        "  zip.extractall()"
      ]
    },
    {
      "cell_type": "code",
      "execution_count": 2,
      "metadata": {
        "id": "-ClRazy6_dlk"
      },
      "outputs": [],
      "source": [
        "import os\n",
        "import pandas as pd\n",
        "import matplotlib.pyplot as plt\n",
        "import numpy as np\n",
        "\n",
        "import tensorflow as tf\n",
        "from tensorflow.keras import layers\n",
        "from tensorflow.keras.preprocessing import image_dataset_from_directory\n",
        "from sklearn.metrics import accuracy_score,classification_report\n",
        "from keras import optimizers\n",
        "from tensorflow.keras.models import Sequential\n",
        "from tensorflow.keras.layers import Convolution2D,MaxPooling2D,Activation, Dropout, Flatten, Dense, BatchNormalization\n",
        "\n",
        "import numpy as np\n",
        "import pandas as pd\n",
        "import matplotlib.pyplot as plt\n",
        "import os\n",
        "from tqdm.notebook import tqdm"
      ]
    },
    {
      "cell_type": "code",
      "execution_count": 3,
      "metadata": {
        "id": "9C2V-vtL_dof"
      },
      "outputs": [],
      "source": [
        "# Train and Test Directory\n",
        "train_dir = '/content/DevanagariHandwrittenCharacterDataset/Train'\n",
        "test_dir = '/content/DevanagariHandwrittenCharacterDataset/Test'"
      ]
    },
    {
      "cell_type": "code",
      "execution_count": 4,
      "metadata": {
        "colab": {
          "base_uri": "https://localhost:8080/"
        },
        "id": "ZgwtImVE_dqz",
        "outputId": "dd821a38-8c9e-4797-ee9b-af3e96cc7dca"
      },
      "outputs": [
        {
          "output_type": "stream",
          "name": "stdout",
          "text": [
            "Length of the list :  46\n"
          ]
        },
        {
          "output_type": "execute_result",
          "data": {
            "text/plain": [
              "['digit_7',\n",
              " 'character_31_petchiryakha',\n",
              " 'character_33_ha',\n",
              " 'character_14_dhaa',\n",
              " 'character_9_jha',\n",
              " 'character_1_ka',\n",
              " 'character_34_chhya',\n",
              " 'character_24_bha',\n",
              " 'character_21_pa',\n",
              " 'digit_2',\n",
              " 'character_4_gha',\n",
              " 'character_30_motosaw',\n",
              " 'digit_5',\n",
              " 'character_19_dha',\n",
              " 'character_11_taamatar',\n",
              " 'character_16_tabala',\n",
              " 'character_6_cha',\n",
              " 'character_13_daa',\n",
              " 'character_15_adna',\n",
              " 'digit_0',\n",
              " 'character_10_yna',\n",
              " 'character_2_kha',\n",
              " 'digit_8',\n",
              " 'character_32_patalosaw',\n",
              " 'character_5_kna',\n",
              " 'character_26_yaw',\n",
              " 'character_7_chha',\n",
              " 'digit_6',\n",
              " 'digit_1',\n",
              " 'character_22_pha',\n",
              " 'character_28_la',\n",
              " 'character_27_ra',\n",
              " 'character_17_tha',\n",
              " 'digit_3',\n",
              " 'digit_4',\n",
              " 'character_23_ba',\n",
              " 'character_12_thaa',\n",
              " 'character_8_ja',\n",
              " 'character_20_na',\n",
              " 'character_25_ma',\n",
              " 'character_29_waw',\n",
              " 'character_3_ga',\n",
              " 'character_18_da',\n",
              " 'digit_9',\n",
              " 'character_35_tra',\n",
              " 'character_36_gya']"
            ]
          },
          "metadata": {},
          "execution_count": 4
        }
      ],
      "source": [
        "# Total number of classes in the dataset\n",
        "classes = os.listdir(train_dir)\n",
        "print(\"Length of the list : \",len(classes))\n",
        "classes"
      ]
    },
    {
      "cell_type": "code",
      "execution_count": 5,
      "metadata": {
        "colab": {
          "base_uri": "https://localhost:8080/",
          "height": 430
        },
        "id": "dA6zLWp7_dtj",
        "outputId": "d7381b80-23ea-41c2-fed0-8f8df8244eb7"
      },
      "outputs": [
        {
          "output_type": "display_data",
          "data": {
            "text/plain": [
              "<Figure size 640x480 with 1 Axes>"
            ],
            "image/png": "[encoded data removed]"
          },
          "metadata": {}
        }
      ],
      "source": [
        "import matplotlib.pyplot as plt\n",
        "import matplotlib.image as mpimg\n",
        "\n",
        "# Load image\n",
        "img = mpimg.imread('/content/DevanagariHandwrittenCharacterDataset/Train/character_10_yna/10542.png')\n",
        "\n",
        "# Display image\n",
        "plt.imshow(img)\n",
        "plt.show()"
      ]
    },
    {
      "cell_type": "code",
      "execution_count": 6,
      "metadata": {
        "id": "5ZEDbljv_dwZ"
      },
      "outputs": [],
      "source": [
        "hindi_character = 'ञ ट ठ ड ढ ण त थ द ध क न प फ ब भ म य र ल व ख श ष स ह ॠ त्र ज्ञ ग घ ङ च छ ज झ ० १ २ ३ ४ ५ ६ ७ ८ ९'.split()\n"
      ]
    },
    {
      "cell_type": "code",
      "execution_count": 7,
      "metadata": {
        "id": "iOVf-Nxe_dzK",
        "colab": {
          "base_uri": "https://localhost:8080/"
        },
        "outputId": "6cf50546-e743-475f-a7c9-5933c750c51f"
      },
      "outputs": [
        {
          "output_type": "stream",
          "name": "stdout",
          "text": [
            "List of Class Names:\n",
            "character_1_ka\n",
            "character_2_kha\n",
            "character_3_ga\n",
            "charajcter_4_gha\n",
            "character_5_kna\n",
            "character_6_cha\n",
            "character_7_chha\n",
            "character_8_ja\n",
            "character_9_jha\n",
            "character_10_yna\n",
            "character_11_taamatar\n",
            "character_12_thaa\n",
            "character_13_daa\n",
            "character_14_dhaa\n",
            "character_15_adna\n",
            "character_16_tabala\n",
            "character_17_tha\n",
            "character_18_da\n",
            "character_19_dha\n",
            "character_20_na\n",
            "character_21_pa\n",
            "character_22_pha\n",
            "character_23_ba\n",
            "character_24_bha\n",
            "character_25_ma\n",
            "character_26_yaw\n",
            "character_27_ra\n",
            "character_28_la\n",
            "character_29_waw\n",
            "character_30_motosaw\n",
            "character_31_petchiryakha\n",
            "character_32_patalosaw\n",
            "character_33_ha\n",
            "character_34_chhya\n",
            "character_35_tra\n",
            "character_36_gya\n",
            "digit_0\n",
            "digit_1\n",
            "digit_2\n",
            "digit_3\n",
            "digit_4\n",
            "digit_5\n",
            "digit_6\n",
            "digit_7\n",
            "digit_8\n",
            "digit_9\n"
          ]
        }
      ],
      "source": [
        "# Generating Class label\n",
        "# The names of each character, in the correct order for the Hindi Devnagari script\n",
        "class_names='''character_1_ka character_2_kha character_3_ga charajcter_4_gha character_5_kna character_6_cha character_7_chha\n",
        "character_8_ja character_9_jha character_10_yna character_11_taamatar character_12_thaa character_13_daa character_14_dhaa\n",
        "character_15_adna character_16_tabala character_17_tha character_18_da character_19_dha character_20_na character_21_pa\n",
        "character_22_pha character_23_ba character_24_bha character_25_ma character_26_yaw character_27_ra character_28_la\n",
        "character_29_waw character_30_motosaw character_31_petchiryakha character_32_patalosaw character_33_ha character_34_chhya\n",
        "character_35_tra character_36_gya digit_0 digit_1 digit_2 digit_3 digit_4 digit_5 digit_6 digit_7 digit_8 digit_9'''.split()\n",
        "print(\"List of Class Names:\")\n",
        "for class_name in class_names:\n",
        "    print(class_name)\n"
      ]
    },
    {
      "cell_type": "code",
      "execution_count": 8,
      "metadata": {
        "colab": {
          "base_uri": "https://localhost:8080/"
        },
        "id": "Z4hiTVnsASHx",
        "outputId": "c022fa0c-3473-46b0-8d0c-9d376a7c8039"
      },
      "outputs": [
        {
          "output_type": "stream",
          "name": "stdout",
          "text": [
            "Found 78200 files belonging to 46 classes.\n",
            "Found 13800 files belonging to 46 classes.\n"
          ]
        }
      ],
      "source": [
        "# Creating Batches for training and testing\n",
        "\n",
        "#Import the data from the directories, then transform them into batches\n",
        "training_dataset = image_dataset_from_directory(directory=train_dir,\n",
        "                                                image_size=(32,32),\n",
        "                                                batch_size=32,\n",
        "                                                label_mode='categorical')\n",
        "\n",
        "testting_dataset = image_dataset_from_directory(directory=test_dir,\n",
        "                                                image_size=(32,32),\n",
        "                                                batch_size=32,\n",
        "                                                label_mode='categorical',\n",
        "                                                shuffle=False)"
      ]
    },
    {
      "cell_type": "code",
      "execution_count": 10,
      "metadata": {
        "id": "5lJq-At6_d15",
        "colab": {
          "base_uri": "https://localhost:8080/"
        },
        "outputId": "e5ab8406-eb96-4876-ff6f-46ab78ef4397"
      },
      "outputs": [
        {
          "output_type": "stream",
          "name": "stderr",
          "text": [
            "/usr/local/lib/python3.11/dist-packages/keras/src/layers/preprocessing/tf_data_layer.py:19: UserWarning: Do not pass an `input_shape`/`input_dim` argument to a layer. When using Sequential models, prefer using an `Input(shape)` object as the first layer in the model instead.\n",
            "  super().__init__(**kwargs)\n"
          ]
        }
      ],
      "source": [
        "import tensorflow as tf\n",
        "from tensorflow.keras import layers\n",
        "\n",
        "\n",
        "model_1 = tf.keras.Sequential([\n",
        "    # Rescale pixel values\n",
        "    layers.Rescaling(1./255, input_shape=(32, 32, 3)),\n",
        "\n",
        "    # Layer 1: Conv + BN + AvgPool\n",
        "    layers.Conv2D(filters=6, kernel_size=(5, 5), activation='relu', padding='same'),\n",
        "    layers.BatchNormalization(),\n",
        "    layers.AveragePooling2D(pool_size=(2, 2)),\n",
        "\n",
        "    # Layer 2: Conv + BN + AvgPool\n",
        "    layers.Conv2D(filters=16, kernel_size=(5, 5), activation='relu'),\n",
        "    layers.BatchNormalization(),\n",
        "    layers.AveragePooling2D(pool_size=(2, 2)),\n",
        "\n",
        "    # Flattening\n",
        "    layers.Flatten(),\n",
        "\n",
        "    # Fully Connected Layer 1\n",
        "    layers.Dense(120, activation='relu'),\n",
        "    layers.BatchNormalization(),\n",
        "    layers.Dropout(0.5),\n",
        "\n",
        "    # Fully Connected Layer 2\n",
        "    layers.Dense(84, activation='relu'),\n",
        "    layers.BatchNormalization(),\n",
        "    layers.Dropout(0.5),\n",
        "\n",
        "    # Output Layer\n",
        "    layers.Dense(len(classes), activation='softmax')\n",
        "])\n"
      ]
    },
    {
      "cell_type": "code",
      "execution_count": 11,
      "metadata": {
        "id": "q2CYL6I3_d4n"
      },
      "outputs": [],
      "source": [
        "# Compile Model\n",
        "model_1.compile(loss = 'categorical_crossentropy',\n",
        "                optimizer = 'adam',\n",
        "                metrics = ['accuracy'])"
      ]
    },
    {
      "cell_type": "code",
      "execution_count": 13,
      "metadata": {
        "colab": {
          "base_uri": "https://localhost:8080/"
        },
        "id": "BrA6rUE4_d7a",
        "outputId": "390f3cde-2cda-4260-ff8e-229f9b0a0d74"
      },
      "outputs": [
        {
          "output_type": "stream",
          "name": "stdout",
          "text": [
            "Epoch 1/8\n",
            "\u001b[1m2444/2444\u001b[0m \u001b[32m━━━━━━━━━━━━━━━━━━━━\u001b[0m\u001b[37m\u001b[0m \u001b[1m95s\u001b[0m 39ms/step - accuracy: 0.6848 - loss: 1.0820 - val_accuracy: 0.9141 - val_loss: 0.2820\n",
            "Epoch 2/8\n",
            "\u001b[1m2444/2444\u001b[0m \u001b[32m━━━━━━━━━━━━━━━━━━━━\u001b[0m\u001b[37m\u001b[0m \u001b[1m87s\u001b[0m 36ms/step - accuracy: 0.8335 - loss: 0.5549 - val_accuracy: 0.9514 - val_loss: 0.1576\n",
            "Epoch 3/8\n",
            "\u001b[1m2444/2444\u001b[0m \u001b[32m━━━━━━━━━━━━━━━━━━━━\u001b[0m\u001b[37m\u001b[0m \u001b[1m87s\u001b[0m 36ms/step - accuracy: 0.8721 - loss: 0.4261 - val_accuracy: 0.9618 - val_loss: 0.1265\n",
            "Epoch 4/8\n",
            "\u001b[1m2444/2444\u001b[0m \u001b[32m━━━━━━━━━━━━━━━━━━━━\u001b[0m\u001b[37m\u001b[0m \u001b[1m143s\u001b[0m 36ms/step - accuracy: 0.8942 - loss: 0.3526 - val_accuracy: 0.9622 - val_loss: 0.1217\n",
            "Epoch 5/8\n",
            "\u001b[1m2444/2444\u001b[0m \u001b[32m━━━━━━━━━━━━━━━━━━━━\u001b[0m\u001b[37m\u001b[0m \u001b[1m148s\u001b[0m 39ms/step - accuracy: 0.9055 - loss: 0.3188 - val_accuracy: 0.9649 - val_loss: 0.1125\n",
            "Epoch 6/8\n",
            "\u001b[1m2444/2444\u001b[0m \u001b[32m━━━━━━━━━━━━━━━━━━━━\u001b[0m\u001b[37m\u001b[0m \u001b[1m89s\u001b[0m 36ms/step - accuracy: 0.9135 - loss: 0.2927 - val_accuracy: 0.9676 - val_loss: 0.1073\n",
            "Epoch 7/8\n",
            "\u001b[1m2444/2444\u001b[0m \u001b[32m━━━━━━━━━━━━━━━━━━━━\u001b[0m\u001b[37m\u001b[0m \u001b[1m86s\u001b[0m 35ms/step - accuracy: 0.9193 - loss: 0.2698 - val_accuracy: 0.9720 - val_loss: 0.0922\n",
            "Epoch 8/8\n",
            "\u001b[1m2444/2444\u001b[0m \u001b[32m━━━━━━━━━━━━━━━━━━━━\u001b[0m\u001b[37m\u001b[0m \u001b[1m139s\u001b[0m 34ms/step - accuracy: 0.9272 - loss: 0.2455 - val_accuracy: 0.9743 - val_loss: 0.0854\n"
          ]
        }
      ],
      "source": [
        "# Model taining\n",
        "model_1_history = model_1.fit(training_dataset,\n",
        "                              validation_data = testting_dataset,\n",
        "                        epochs = 8 ,)"
      ]
    },
    {
      "cell_type": "code",
      "execution_count": 14,
      "metadata": {
        "colab": {
          "base_uri": "https://localhost:8080/",
          "height": 487
        },
        "id": "3udXBSxv_d-D",
        "outputId": "a6bbf2c6-32f7-44d7-dd9e-136a9789ee64"
      },
      "outputs": [
        {
          "output_type": "display_data",
          "data": {
            "text/plain": [
              "<Figure size 1000x500 with 1 Axes>"
            ],
            "image/png": "[encoded data removed]"
          },
          "metadata": {}
        }
      ],
      "source": [
        "# graph of validation loss and training data accuracy\n",
        "#x-axis represents the epochs, the y-axis represents the accuracy, and it\n",
        "# shows both the training and validation accuracy.\n",
        "\n",
        "\n",
        "import matplotlib.pyplot as plt\n",
        "\n",
        "plt.figure(1, figsize=(10, 5))\n",
        "\n",
        "# Plot the training accuracy with a red line, solid line style, and circle marker\n",
        "plt.plot(model_1_history.history['accuracy'], color='red', linestyle='-', marker='o', label='Train')\n",
        "\n",
        "# Plot the validation accuracy with a blue line, dashed line style, and square marker\n",
        "plt.plot(model_1_history.history['val_accuracy'], color='blue', linestyle='--', marker='s', label='Validation')\n",
        "\n",
        "# Set labels for x and y axis\n",
        "plt.xlabel('Epochs')\n",
        "plt.ylabel('Accuracy')\n",
        "#set the plot title\n",
        "plt.title('Training and Validation Accuracy Over Epochs')\n",
        "\n",
        "# Add grid lines\n",
        "plt.grid(True)\n",
        "\n",
        "# Limit y-axis range\n",
        "plt.ylim(0, 1)\n",
        "\n",
        "# Add a legend\n",
        "plt.legend(['Training', 'Validation'])\n",
        "\n",
        "# Show the plot\n",
        "plt.show()\n"
      ]
    },
    {
      "cell_type": "code",
      "execution_count": 15,
      "metadata": {
        "colab": {
          "base_uri": "https://localhost:8080/",
          "height": 499
        },
        "id": "mnW3LGsa__-Z",
        "outputId": "ec20d1d7-8892-4bd4-c6bd-0cca7f0cf879"
      },
      "outputs": [
        {
          "output_type": "stream",
          "name": "stdout",
          "text": [
            "\u001b[1m1/1\u001b[0m \u001b[32m━━━━━━━━━━━━━━━━━━━━\u001b[0m\u001b[37m\u001b[0m \u001b[1m0s\u001b[0m 204ms/step\n",
            "\u001b[1m1/1\u001b[0m \u001b[32m━━━━━━━━━━━━━━━━━━━━\u001b[0m\u001b[37m\u001b[0m \u001b[1m0s\u001b[0m 55ms/step\n",
            "Actual_class : छ\n",
            "Predicted Class :  छ\n"
          ]
        },
        {
          "output_type": "display_data",
          "data": {
            "text/plain": [
              "<Figure size 640x480 with 1 Axes>"
            ],
            "image/png": "[encoded data removed]"
          },
          "metadata": {}
        }
      ],
      "source": [
        "\n",
        "import cv2\n",
        "import matplotlib.pyplot as plt\n",
        "test_img = cv2.imread(\"/content/DevanagariHandwrittenCharacterDataset/Test/character_7_chha/12149.png\")\n",
        "plt.imshow(test_img)\n",
        "test_img = cv2.resize(test_img,(32,32))\n",
        "test_input = test_img.reshape((1,32,32,3))\n",
        "model_1.predict(test_input)\n",
        "predicted_probability = model_1.predict(test_input , verbose=1)\n",
        "predicted_class = predicted_probability.argmax(axis=1)\n",
        "class_number = predicted_class[0]\n",
        "print(\"Actual_class : छ\")\n",
        "print(\"Predicted Class : \" ,hindi_character[class_number])"
      ]
    },
    {
      "cell_type": "code",
      "execution_count": 17,
      "metadata": {
        "colab": {
          "base_uri": "https://localhost:8080/",
          "height": 499
        },
        "id": "8Rux-LOBAAAu",
        "outputId": "d44e1c7a-5bc5-4da3-b450-c3d21f58cf53"
      },
      "outputs": [
        {
          "output_type": "stream",
          "name": "stdout",
          "text": [
            "\u001b[1m1/1\u001b[0m \u001b[32m━━━━━━━━━━━━━━━━━━━━\u001b[0m\u001b[37m\u001b[0m \u001b[1m0s\u001b[0m 32ms/step\n",
            "\u001b[1m1/1\u001b[0m \u001b[32m━━━━━━━━━━━━━━━━━━━━\u001b[0m\u001b[37m\u001b[0m \u001b[1m0s\u001b[0m 54ms/step\n",
            "Actual_class : ख\n",
            "Predicted Class :  ख\n"
          ]
        },
        {
          "output_type": "display_data",
          "data": {
            "text/plain": [
              "<Figure size 640x480 with 1 Axes>"
            ],
            "image/png": "[encoded data removed]"
          },
          "metadata": {}
        }
      ],
      "source": [
        "import cv2\n",
        "import matplotlib.pyplot as plt\n",
        "test_img = cv2.imread(\"/content/DevanagariHandwrittenCharacterDataset/Test/character_2_kha/17739.png\")\n",
        "plt.imshow(test_img)\n",
        "test_img = cv2.resize(test_img,(32,32))\n",
        "test_input = test_img.reshape((1,32,32,3))\n",
        "model_1.predict(test_input)\n",
        "predicted_probability = model_1.predict(test_input , verbose=1)\n",
        "predicted_class = predicted_probability.argmax(axis=1)\n",
        "class_number = predicted_class[0]\n",
        "print(\"Actual_class : ख\")\n",
        "print(\"Predicted Class : \" ,hindi_character[class_number])"
      ]
    },
    {
      "cell_type": "code",
      "execution_count": 16,
      "metadata": {
        "colab": {
          "base_uri": "https://localhost:8080/",
          "height": 499
        },
        "id": "AUkQTvzrAADF",
        "outputId": "c2bfd258-61ba-4b57-cd83-7c0c6422f89f"
      },
      "outputs": [
        {
          "output_type": "stream",
          "name": "stdout",
          "text": [
            "\u001b[1m1/1\u001b[0m \u001b[32m━━━━━━━━━━━━━━━━━━━━\u001b[0m\u001b[37m\u001b[0m \u001b[1m0s\u001b[0m 50ms/step\n",
            "\u001b[1m1/1\u001b[0m \u001b[32m━━━━━━━━━━━━━━━━━━━━\u001b[0m\u001b[37m\u001b[0m \u001b[1m0s\u001b[0m 49ms/step\n",
            "Actual_class : 1\n",
            "Predicted Class :  १\n"
          ]
        },
        {
          "output_type": "display_data",
          "data": {
            "text/plain": [
              "<Figure size 640x480 with 1 Axes>"
            ],
            "image/png": "[encoded data removed]"
          },
          "metadata": {}
        }
      ],
      "source": [
        "import cv2\n",
        "import matplotlib.pyplot as plt\n",
        "test_img = cv2.imread(\"/content/DevanagariHandwrittenCharacterDataset/Test/digit_1/12415.png\")\n",
        "plt.imshow(test_img)\n",
        "test_img = cv2.resize(test_img,(32,32))\n",
        "test_input = test_img.reshape((1,32,32,3))\n",
        "model_1.predict(test_input)\n",
        "predicted_probability = model_1.predict(test_input , verbose=1)\n",
        "predicted_class = predicted_probability.argmax(axis=1)\n",
        "class_number = predicted_class[0]\n",
        "print(\"Actual_class : 1\")\n",
        "print(\"Predicted Class : \" ,hindi_character[class_number])"
      ]
    },
    {
      "cell_type": "code",
      "source": [],
      "metadata": {
        "id": "Mth_HUt-vz-Z"
      },
      "execution_count": null,
      "outputs": []
    },
    {
      "cell_type": "code",
      "source": [],
      "metadata": {
        "id": "wQGbDh2bv0hX"
      },
      "execution_count": null,
      "outputs": []
    }
  ],
  "metadata": {
    "colab": {
      "provenance": [],
      "mount_file_id": "1VJwkzQe_pIUDkWY4aEyJMEhWpBdC9KeF",
      "authorship_tag": "ABX9TyMLA81Q4HbBoZ9TzdCMimtU"
    },
    "kernelspec": {
      "display_name": "Python 3",
      "name": "python3"
    },
    "language_info": {
      "name": "python"
    }
  },
  "nbformat": 4,
  "nbformat_minor": 0
}